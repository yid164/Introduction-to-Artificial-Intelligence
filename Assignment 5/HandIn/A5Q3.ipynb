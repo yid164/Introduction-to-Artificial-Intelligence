{
 "cells": [
  {
   "cell_type": "markdown",
   "metadata": {},
   "source": [
    "# Student Identification\n",
    "* Yinsheng Dong (yid164)\n",
    "\n",
    "* 11148648"
   ]
  },
  {
   "cell_type": "markdown",
   "metadata": {},
   "source": [
    "Here's where we import libraries needed by the document.  The `linclass` module can be downloaded from Moodle.  Make sure it's in the same directory as this document."
   ]
  },
  {
   "cell_type": "code",
   "execution_count": 443,
   "metadata": {},
   "outputs": [],
   "source": [
    "import matplotlib.pyplot as plt\n",
    "import linclass as lc"
   ]
  },
  {
   "cell_type": "markdown",
   "metadata": {},
   "source": [
    "## The Data \n",
    "The data consists of tuples $(x_1,x_2,y)$ where the attributes are $x_1$ and $x_2$, and the class label is $y$.  The training process looks at the $y$ values, but the resulting classifier does not."
   ]
  },
  {
   "cell_type": "code",
   "execution_count": 444,
   "metadata": {},
   "outputs": [],
   "source": [
    "D = [ (1, 3, 1), (2, 4, 1), (2, 2, 0), (3, 1, 0) ]"
   ]
  },
  {
   "cell_type": "markdown",
   "metadata": {},
   "source": [
    "To plot the data, we separate the two classes.  The learning rule doesn't look at our two sublists."
   ]
  },
  {
   "cell_type": "code",
   "execution_count": 445,
   "metadata": {},
   "outputs": [],
   "source": [
    "class_0 = [(x1,x2) for (x1,x2,y) in D if y == 0]\n",
    "class_1 = [(x1,x2) for (x1,x2,y) in D if y == 1]"
   ]
  },
  {
   "cell_type": "markdown",
   "metadata": {},
   "source": [
    "## Separating the classes with a single line\n",
    "Here we set the value for slope and $y$-intercept for a line that separates the two classes.  The `linclass` module is fully general, using the conventional linear algebra representation for lines as a vector (a Python list) of coefficients $\\mathbf{w}$.\n",
    "\n",
    "### Aside: two representations of a line in 2D.\n",
    "Even though Linear Algebra is a required course in Computer Science, most students are more familiart with the slope,intercept representation of a line.  Here, the form is $x_2 = mx_1 + b$.  To accomodate this fact, we'll start with $m$ and $b$, but convert to an appropriate list of coefficients.  The translation can be understood as follows: \n",
    "\n",
    "A linear model in 2 dimensions means that $\\mathbf{x} = (x_0, x_1, x_2)$, and $\\mathbf{w} = (w_0, w_1, w_2)$.\n",
    "\n",
    "If we compare the two formulae:\n",
    "\n",
    "> $x_2 = mx_1 + b$\n",
    "\n",
    "> $\\mathbf{x} \\cdot \\mathbf{w} = 0$\n",
    "\n",
    "It's not hard to work out that $x_0 = 1, w_2 = 1, w_1 = -m, w_0 = -b$.  (This is one solution of several). "
   ]
  },
  {
   "cell_type": "markdown",
   "metadata": {},
   "source": [
    "### TO DO: Choose a different line\n",
    "In the code below, `m` and `b` are assigned specific values that separate the two classes.  Your task is to choose new values for `m` and `b` that also separate the two classes.  You can do this anakytically, by drawing a line and working out the value of `m` and `b`, or by trial and error.\n",
    "\n",
    "To complete this TODO item, make sure that your choice of `m` and `b` defines a line that separates the original data set `D`."
   ]
  },
  {
   "cell_type": "code",
   "execution_count": 446,
   "metadata": {},
   "outputs": [],
   "source": [
    "# in the form x2 = m*x1 + b\n",
    "m, b = 0, 2.5\n",
    "\n",
    "# in terms of coefficients in a general line through 2D\n",
    "line = lc.Line([-b, -m, 1])"
   ]
  },
  {
   "cell_type": "markdown",
   "metadata": {},
   "source": [
    "### Q3(a): Define new m and b, and make a line"
   ]
  },
  {
   "cell_type": "code",
   "execution_count": 447,
   "metadata": {},
   "outputs": [],
   "source": [
    "# Assignment TODO (a): choose a different line\n",
    "# to try a different line\n",
    "# Create new m, b named m1, b1\n",
    "m1, b1 = 1, 1\n",
    "\n",
    "# Create new line line1\n",
    "line1 = lc.Line([-b1, -m1, 1])"
   ]
  },
  {
   "cell_type": "markdown",
   "metadata": {},
   "source": [
    "Now we plot the data and the line, showing separation."
   ]
  },
  {
   "cell_type": "code",
   "execution_count": 448,
   "metadata": {
    "scrolled": true
   },
   "outputs": [
    {
     "data": {
      "image/png": "[encoded data removed]",
      "text/plain": [
       "<Figure size 432x288 with 1 Axes>"
      ]
     },
     "metadata": {
      "needs_background": "light"
     },
     "output_type": "display_data"
    }
   ],
   "source": [
    "# plot the two classes' points\n",
    "plt.plot([x1 for (x1,x2) in class_0], [x2 for (x1,x2) in class_0], \"bs\")\n",
    "plt.plot([x1 for (x1,x2) in class_1], [x2 for (x1,x2) in class_1], \"ro\")\n",
    "\n",
    "# plot the line\n",
    "plt.plot(range(0,6), [line.f([1, x1]) for x1 in range(0,6)],\"y\")\n",
    "\n",
    "# set the extent of the axes, and add a key/legend to the figure\n",
    "plt.xlim(0,5)\n",
    "plt.ylim(0,5)\n",
    "plt.legend(['Class = 0', 'Class = 1', line.mxb()])  \n",
    "plt.show()"
   ]
  },
  {
   "cell_type": "markdown",
   "metadata": {},
   "source": [
    "### Q3(a) Draw the new line on the graph, and separtes the original data"
   ]
  },
  {
   "cell_type": "code",
   "execution_count": 449,
   "metadata": {},
   "outputs": [
    {
     "data": {
      "image/png": "[encoded data removed]",
      "text/plain": [
       "<Figure size 432x288 with 1 Axes>"
      ]
     },
     "metadata": {
      "needs_background": "light"
     },
     "output_type": "display_data"
    }
   ],
   "source": [
    "# Assignment TODO choose a different line, then print it\n",
    "# plot the two classes' points just like before\n",
    "plt.plot([x1 for (x1,x2) in class_0], [x2 for (x1,x2) in class_0], \"bs\")\n",
    "plt.plot([x1 for (x1,x2) in class_1], [x2 for (x1,x2) in class_1], \"ro\")\n",
    "\n",
    "# plot the line, and add the line1 to the graph\n",
    "plt.plot(range(0,6), [line1.f([1, x1]) for x1 in range(0,6)],\"y\")\n",
    "\n",
    "# set the extent of the axes, and add a key/legend to the figure\n",
    "plt.xlim(0,5)\n",
    "plt.ylim(0,5)\n",
    "plt.legend(['Class = 0', 'Class = 1', line1.mxb()])  \n",
    "plt.show()"
   ]
  },
  {
   "cell_type": "markdown",
   "metadata": {},
   "source": [
    "Humans can see that the line separates the points, but for a classifier, we need a function to return the class of any point given a line.  The `LinearClassifier` class has a method for that named `classify()`."
   ]
  },
  {
   "cell_type": "code",
   "execution_count": 450,
   "metadata": {},
   "outputs": [
    {
     "name": "stdout",
     "output_type": "stream",
     "text": [
      "The point [2, 2] is predicted to be class 0\n"
     ]
    }
   ],
   "source": [
    "pretrained = lc.LinearClassifier()\n",
    "pt = list(class_0[0])  # a class 0 point\n",
    "\n",
    "pt_class = pretrained.classify(line, [1] + pt)\n",
    "\n",
    "print('The point', pt, 'is predicted to be class', pt_class)"
   ]
  },
  {
   "cell_type": "markdown",
   "metadata": {},
   "source": [
    "The `LinearClassifier` class also has a method to show how the classifier works on a set of points, named `tabulate_class()`."
   ]
  },
  {
   "cell_type": "markdown",
   "metadata": {},
   "source": [
    "### Q3(a) for the function to return the class of any point given the new line"
   ]
  },
  {
   "cell_type": "code",
   "execution_count": 451,
   "metadata": {},
   "outputs": [
    {
     "name": "stdout",
     "output_type": "stream",
     "text": [
      "The new point [2, 2] is predicted to be class 0\n"
     ]
    }
   ],
   "source": [
    "pretrainted1 = lc.LinearClassifier()\n",
    "pt1 = list(class_0[0])\n",
    "\n",
    "pt_class1 = pretrainted1.classify(line1, [1] + pt1)\n",
    "\n",
    "print ('The new point', pt1, 'is predicted to be class', pt_class1)\n"
   ]
  },
  {
   "cell_type": "code",
   "execution_count": 452,
   "metadata": {
    "scrolled": true
   },
   "outputs": [
    {
     "name": "stdout",
     "output_type": "stream",
     "text": [
      "   x1   x2   LM   Pred Class\n",
      "  1.0  3.0  0.5   1    1\n",
      "  2.0  4.0  1.5   1    1\n",
      "  2.0  2.0 -0.5   0    0\n",
      "  3.0  1.0 -1.5   0    0\n"
     ]
    }
   ],
   "source": [
    "pretrained.tabulate_class(D, line)"
   ]
  },
  {
   "cell_type": "markdown",
   "metadata": {},
   "source": [
    "In the above table, `x1` and `x2` are the coordinates of each data point in `D`.  The column labelled `LM` shows the value $\\mathbf{x} \\cdot \\mathbf{w}$ (there is a method called `linear_model()` to do this, explained below).  The column `Pred` shows the *prediction*, that is, the output of the function `classify()` for each point and the given line.  The column `Class` shows the recorded class of each data point, as labelled in the data `D`.\n",
    "\n",
    "If a line separates the data correctly, the column `Pred` will be identical to the `Class` column. "
   ]
  },
  {
   "cell_type": "markdown",
   "metadata": {},
   "source": [
    "### Q3(a) for the result print"
   ]
  },
  {
   "cell_type": "code",
   "execution_count": 453,
   "metadata": {},
   "outputs": [
    {
     "name": "stdout",
     "output_type": "stream",
     "text": [
      "   x1   x2   LM   Pred Class\n",
      "  1.0  3.0  1.0   1    1\n",
      "  2.0  4.0  1.0   1    1\n",
      "  2.0  2.0 -1.0   0    0\n",
      "  3.0  1.0 -3.0   0    0\n"
     ]
    }
   ],
   "source": [
    "pretrainted1.tabulate_class(D, line1)"
   ]
  },
  {
   "cell_type": "markdown",
   "metadata": {},
   "source": [
    "## Demonstrating the learning rule\n",
    "Let's add a new point to the data, one that is not classified correctly by the line."
   ]
  },
  {
   "cell_type": "code",
   "execution_count": 454,
   "metadata": {},
   "outputs": [],
   "source": [
    "# D1 = D + [(3,4,0)]\n",
    "# class_0 = [(x1,x2) for (x1,x2,y) in D1 if y == 0]\n",
    "# class_1 = [(x1,x2) for (x1,x2,y) in D1 if y == 1]"
   ]
  },
  {
   "cell_type": "markdown",
   "metadata": {},
   "source": [
    "## TODO: Add a point to the data\n",
    "In the code above, a new point in class 0 (blue) is created and added to the data.  Your task is to add one more red point (Class 1) to the data.  \n",
    "\n",
    "To complete this TODO item, choose a new red point as follows:\n",
    "1. The new points should be on the wrong side of the line that you created above.  In other words the line does not separate the data correctly.\n",
    "1. Make sure that the two classes are actually linearly separable, even though your current line doesn't separate them correctly.  \n",
    "\n",
    "We'll use the classifier to find a new line to separate the data, but it will not work if the data are not separable."
   ]
  },
  {
   "cell_type": "markdown",
   "metadata": {},
   "source": [
    "We'll plot them now, just to visualize the situation before learning."
   ]
  },
  {
   "cell_type": "markdown",
   "metadata": {},
   "source": [
    "### Q3(b) Add a new red point\n",
    "The solution"
   ]
  },
  {
   "cell_type": "code",
   "execution_count": 455,
   "metadata": {},
   "outputs": [],
   "source": [
    "D1 = D + [(1,1.7,1)]\n",
    "class_0 = [(x1,x2) for (x1,x2,y) in D1 if y == 0]\n",
    "class_1 = [(x1,x2) for (x1,x2,y) in D1 if y == 1]"
   ]
  },
  {
   "cell_type": "markdown",
   "metadata": {},
   "source": [
    "### I changed the origianl line to the line created in 1"
   ]
  },
  {
   "cell_type": "code",
   "execution_count": 456,
   "metadata": {},
   "outputs": [
    {
     "data": {
      "image/png": "[encoded data removed]",
      "text/plain": [
       "<Figure size 432x288 with 1 Axes>"
      ]
     },
     "metadata": {
      "needs_background": "light"
     },
     "output_type": "display_data"
    }
   ],
   "source": [
    "# should show the new red point on the graph\n",
    "# plot the two classes' points\n",
    "plt.plot([x1 for (x1,x2) in class_0], [x2 for (x1,x2) in class_0], \"bs\")\n",
    "plt.plot([x1 for (x1,x2) in class_1], [x2 for (x1,x2) in class_1], \"ro\")\n",
    "\n",
    "# plot the line\n",
    "plt.plot(range(0,6), [line1.f([1, x1]) for x1 in range(0,6)],\"y\")\n",
    "\n",
    "# set the extent of the axes, and add a key/legend to the figure\n",
    "plt.xlim(0,5)\n",
    "plt.ylim(0,5)\n",
    "plt.legend(['Class = 0', 'Class = 1', line1.mxb()])  \n",
    "plt.show()"
   ]
  },
  {
   "cell_type": "markdown",
   "metadata": {},
   "source": [
    "For a linear classifier, the learning rule is a step calculated by gradient descent to minimize error.  The best step is to move the line towards a mis-classified point, and has been determined mathematically by calculus, so we don't need to try all neighbours as in hill-climbing.  In the `LinearClassifier` class, the learning rule is implemented in the method `best_step()`."
   ]
  },
  {
   "cell_type": "code",
   "execution_count": 457,
   "metadata": {},
   "outputs": [],
   "source": [
    "# create a linear classifier object\n",
    "fitting = lc.LinearClassifier()"
   ]
  },
  {
   "cell_type": "markdown",
   "metadata": {},
   "source": [
    "In Hill-climbing, we keep stepping until we reach the top of a local maximum.  Same for gradient ascent/descent."
   ]
  },
  {
   "cell_type": "markdown",
   "metadata": {},
   "source": [
    "## TODO: Increase the number of learning steps\n",
    "In the code below, the number of steps is determined by the variable `steps` which is currently set to `0`.  And a few lines later, we plot the effect of learning.  \n",
    "\n",
    "1. Set `steps = 1`; rerun the learning, and replot the data and the lines.  Notice how the line changed.\n",
    "1. Set `steps = 2`; rerun the learning, and replot the data and the lines.  Notice how the line changed.\n",
    "1. Experiment with the value of `steps`.  What is the smallest value needed to find a separating line?\n",
    "\n",
    "To complete this TODO item, set the value of `steps` so that the fitted line separates the two classes."
   ]
  },
  {
   "cell_type": "markdown",
   "metadata": {},
   "source": [
    "### A3(c) set step = 1"
   ]
  },
  {
   "cell_type": "code",
   "execution_count": 458,
   "metadata": {},
   "outputs": [],
   "source": [
    "# start with the original line\n",
    "line3 = line1\n",
    "\n",
    "# initial learning rate\n",
    "alpha = 0.1\n",
    "\n",
    "# how many steps to use, set the step = 1\n",
    "steps = 1\n",
    "\n",
    "# learn, by taking enough steps\n",
    "for i in range(steps):\n",
    "    # look at all the data each time\n",
    "    for pt in D1:\n",
    "        line3 = fitting.best_step(line3, alpha, pt)"
   ]
  },
  {
   "cell_type": "markdown",
   "metadata": {},
   "source": [
    "### A3(c) set step = 2"
   ]
  },
  {
   "cell_type": "code",
   "execution_count": 459,
   "metadata": {},
   "outputs": [],
   "source": [
    "# start with the original line\n",
    "line4 = line1\n",
    "\n",
    "# initial learning rate\n",
    "alpha = 0.1\n",
    "\n",
    "# how many steps to use, set the step = 1\n",
    "steps = 2\n",
    "\n",
    "# learn, by taking enough steps\n",
    "for i in range(steps):\n",
    "    # look at all the data each time\n",
    "    for pt in D1:\n",
    "        line4 = fitting.best_step(line4, alpha, pt)"
   ]
  },
  {
   "cell_type": "markdown",
   "metadata": {},
   "source": [
    "Typically, the hill-climbing loop to train a classifier is implemented as a method inside the classifier's class, and not exposed as part of a script, as above.  It's traditional to name such a method `fit()`.  As a method, the implementation can check when the top of the hill has been reached, and can do other things, like adjust the learning rate dynamically. "
   ]
  },
  {
   "cell_type": "markdown",
   "metadata": {},
   "source": [
    "Now plot the old line and the new line, showing all the data."
   ]
  },
  {
   "cell_type": "code",
   "execution_count": 460,
   "metadata": {
    "scrolled": false
   },
   "outputs": [
    {
     "data": {
      "image/png": "[encoded data removed]",
      "text/plain": [
       "<Figure size 432x288 with 1 Axes>"
      ]
     },
     "metadata": {
      "needs_background": "light"
     },
     "output_type": "display_data"
    }
   ],
   "source": [
    "# points from the two classes\n",
    "plt.plot([x1 for (x1,x2) in class_0], [x2 for (x1,x2) in class_0], \"bs\")\n",
    "plt.plot([x1 for (x1,x2) in class_1], [x2 for (x1,x2) in class_1], \"ro\")\n",
    "\n",
    "# the original line \n",
    "\n",
    "## plt.plot(range(0,6), [line.f([1, x1]) for x1 in range(0,6)],\"y\")\n",
    "\n",
    "# the new line\n",
    "# plt.plot(range(0,6), [line2.f([1, x1]) for x1 in range(0,6)],\"r\")\n",
    "\n",
    "# the new line which step = 1\n",
    "\n",
    "plt.plot(range(0, 6), [line3.f([1, x1]) for x1 in range(0, 6)], 'b')\n",
    "\n",
    "# the new line which step = 2\n",
    "\n",
    "plt.plot(range(0, 6), [line4.f([1, x1]) for x1 in range(0, 6)], 'g')\n",
    "\n",
    "# the new line which step = n\n",
    "##plt.plot(range(0, 6), [line5.f([1, x1]) for x1 in range(0, 6)], 'r')\n",
    "\n",
    "\n",
    "plt.xlim(0,5)\n",
    "plt.ylim(0,5)\n",
    "plt.legend(['Class = 0', 'Class = 1', line3.mxb(), line4.mxb(), line5.mxb(),])  # in the order of the calls to plot() above\n",
    "plt.show()"
   ]
  },
  {
   "cell_type": "markdown",
   "metadata": {},
   "source": [
    "The learning process has shifted and rotated the red line.  All the points should be predicted correctly in the table below."
   ]
  },
  {
   "cell_type": "code",
   "execution_count": 461,
   "metadata": {
    "scrolled": true
   },
   "outputs": [
    {
     "name": "stdout",
     "output_type": "stream",
     "text": [
      "   x1   x2   LM   Pred Class\n",
      "  1.0  3.0  1.4   1    1\n",
      "  2.0  4.0  1.6   1    1\n",
      "  2.0  2.0 -0.4   0    0\n",
      "  3.0  1.0 -2.2   0    0\n",
      "  1.0  1.7  0.1   1    1\n"
     ]
    }
   ],
   "source": [
    "pretrained.tabulate_class(D1, line4)"
   ]
  },
  {
   "cell_type": "markdown",
   "metadata": {},
   "source": [
    "### Q3(c)The fitted line separates the two class\n",
    "When the step increase to 2, the line has been the fit line (green)"
   ]
  },
  {
   "cell_type": "code",
   "execution_count": null,
   "metadata": {},
   "outputs": [],
   "source": []
  }
 ],
 "metadata": {
  "kernelspec": {
   "display_name": "Python 3",
   "language": "python",
   "name": "python3"
  },
  "language_info": {
   "codemirror_mode": {
    "name": "ipython",
    "version": 3
   },
   "file_extension": ".py",
   "mimetype": "text/x-python",
   "name": "python",
   "nbconvert_exporter": "python",
   "pygments_lexer": "ipython3",
   "version": "3.7.0"
  }
 },
 "nbformat": 4,
 "nbformat_minor": 2
}
