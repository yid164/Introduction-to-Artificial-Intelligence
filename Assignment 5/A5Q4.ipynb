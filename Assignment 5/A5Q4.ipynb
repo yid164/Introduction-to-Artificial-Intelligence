{
 "cells": [
  {
   "cell_type": "markdown",
   "metadata": {},
   "source": [
    "# Student Identification\n",
    "* Your name\n",
    "\n",
    "* Your student number"
   ]
  },
  {
   "cell_type": "markdown",
   "metadata": {},
   "source": [
    "Here's where we importlibraries needed by the document.  The `linclass` module can be downloaded from Moodle.  Make sure it's in the same directory as this document."
   ]
  },
  {
   "cell_type": "code",
   "execution_count": 1,
   "metadata": {},
   "outputs": [],
   "source": [
    "import matplotlib.pyplot as plt\n",
    "import linclass as lc"
   ]
  },
  {
   "cell_type": "markdown",
   "metadata": {},
   "source": [
    "## The Data \n",
    "The data consists of tuples $(x_1,x_2,y)$ where the attributes are $x_1$ and $x_2$, and the class label is $y$.  The training process looks at the $y$ values, but the resulting classifier does not."
   ]
  },
  {
   "cell_type": "code",
   "execution_count": 2,
   "metadata": {},
   "outputs": [],
   "source": [
    "D = [ (1, 4, 1), (3, 4, 1), (1, 2, 1), (2, 3, 1), (2, 4, 0),\n",
    "      (2, 1, 0), (4, 1, 0), (4, 3, 0), (3, 2, 0), (2, 2, 1),\n",
    "      (1, 3, 1)]"
   ]
  },
  {
   "cell_type": "markdown",
   "metadata": {},
   "source": [
    "## Applying a Linear Classifier  -- Failure!\n",
    "Here we set the value for slope and $y$-intercept for a line through the region containing the data.  We could use a random line, but it's more valuable as an educational experience if we can see the starting position."
   ]
  },
  {
   "cell_type": "code",
   "execution_count": 11,
   "metadata": {
    "scrolled": true
   },
   "outputs": [
    {
     "data": {
      "image/png": "[encoded data removed]",
      "text/plain": [
       "<Figure size 432x288 with 1 Axes>"
      ]
     },
     "metadata": {},
     "output_type": "display_data"
    }
   ],
   "source": [
    "# intuitive form:\n",
    "m, b = -0.2, 3\n",
    "\n",
    "# in terms of coefficients in a general line through 2D\n",
    "line = lc.Line([-b, -m, 1])\n",
    "\n",
    "# Plot the data and the line\n",
    "\n",
    "# plot the two classes' points\n",
    "class_0 = [(x1,x2) for (x1,x2,y) in D if y == 0]\n",
    "class_1 = [(x1,x2) for (x1,x2,y) in D if y == 1]\n",
    "\n",
    "plt.plot([x1 for (x1,x2) in class_0], [x2 for (x1,x2) in class_0], \"bs\")\n",
    "plt.plot([x1 for (x1,x2) in class_1], [x2 for (x1,x2) in class_1], \"ro\")\n",
    "\n",
    "# plot the line\n",
    "plt.plot(range(0,6), [line.f([1, x1]) for x1 in range(0,6)],\"y\")\n",
    "\n",
    "# set the extent of the axes, and add a key/legend to the figure\n",
    "plt.xlim(0,7)\n",
    "plt.ylim(0,5)\n",
    "plt.legend(['Class = 0', 'Class = 1', line.mxb()])  \n",
    "plt.show()"
   ]
  },
  {
   "cell_type": "markdown",
   "metadata": {},
   "source": [
    "The data points are not linearly separable, so a linear classifier will always have a few classification errors."
   ]
  },
  {
   "cell_type": "code",
   "execution_count": 4,
   "metadata": {},
   "outputs": [
    {
     "name": "stdout",
     "output_type": "stream",
     "text": [
      "   x1   x2   LM   Pred Class\n",
      "  1.0  4.0  1.2   1    1\n",
      "  3.0  4.0  1.6   1    1\n",
      "  1.0  2.0 -0.8   0    1 ** Classification error\n",
      "  2.0  3.0  0.4   1    1\n",
      "  2.0  4.0  1.4   1    0 ** Classification error\n",
      "  2.0  1.0 -1.6   0    0\n",
      "  4.0  1.0 -1.2   0    0\n",
      "  4.0  3.0  0.8   1    0 ** Classification error\n",
      "  3.0  2.0 -0.4   0    0\n",
      "  2.0  2.0 -0.6   0    1 ** Classification error\n",
      "  1.0  3.0  0.2   1    1\n"
     ]
    }
   ],
   "source": [
    "pretrained = lc.LinearClassifier()\n",
    "\n",
    "pretrained.tabulate_class(D, line)"
   ]
  },
  {
   "cell_type": "markdown",
   "metadata": {},
   "source": [
    "You can count the misclassifications."
   ]
  },
  {
   "cell_type": "markdown",
   "metadata": {},
   "source": [
    "## TO DO: Increase the number of learning steps\n",
    "Because the data are not linearly separable, fitting the linear classifier to the data will not work very well.  Each misclassified point pulls the line towards it, but if there are misclassified points on both sides, the misclassified points tend to push the line in equal and opposite directions.  \n",
    "\n",
    "In the code below, the number of steps is determined by the variable `steps` which is currently set to `0`.  And a few lines later, we plot the effect of learning.  \n",
    "\n",
    "1. Set `steps = 1`; rerun the learning, and replot the data and the lines.  Notice how the line changed.\n",
    "1. Set `steps = 2`; rerun the learning, and replot the data and the lines.  Notice how the line changed.\n",
    "1. Experiment with the value of `steps`.  How many steps before the line stops moving?\n",
    "1. Experiment with the value of `alpha`.  Set `alpha` larger and smaller, and see the effect.\n",
    "\n",
    "To complete this TODO item, set the value for `steps` and `alpha` to values that demonstrate that the line does move.  You'll get different lines for different choices of these variables."
   ]
  },
  {
   "cell_type": "code",
   "execution_count": 5,
   "metadata": {},
   "outputs": [
    {
     "data": {
      "image/png": "[encoded data removed]",
      "text/plain": [
       "<Figure size 432x288 with 1 Axes>"
      ]
     },
     "metadata": {},
     "output_type": "display_data"
    }
   ],
   "source": [
    "# create a linear classifier object\n",
    "fitting = lc.LinearClassifier()\n",
    "\n",
    "# start with the original line\n",
    "line2 = line\n",
    "\n",
    "# initial learning rate\n",
    "alpha = 0.1\n",
    "\n",
    "# how many steps to use\n",
    "steps = 0\n",
    "\n",
    "# fit the model, by taking enough steps\n",
    "for i in range(steps):\n",
    "    # look at all the data each time\n",
    "    for pt in D:\n",
    "        line2 = fitting.best_step(line2, alpha, pt)\n",
    "\n",
    "# Now plot the old line and the new line, showing all the data.\n",
    "\n",
    "# points from the two classes\n",
    "plt.plot([x1 for (x1,x2) in class_0], [x2 for (x1,x2) in class_0], \"bs\")\n",
    "plt.plot([x1 for (x1,x2) in class_1], [x2 for (x1,x2) in class_1], \"ro\")\n",
    "\n",
    "# the original line \n",
    "plt.plot(range(0,6), [line.f([1, x1]) for x1 in range(0,6)],\"y\")\n",
    "\n",
    "# the new line\n",
    "plt.plot(range(0,6), [line2.f([1, x1]) for x1 in range(0,6)],\"r\")\n",
    "\n",
    "plt.xlim(0,7)\n",
    "plt.ylim(0,5)\n",
    "plt.legend(['Class = 0', 'Class = 1', line.mxb(), line2.mxb()])  # in the order of the calls to plot() above\n",
    "plt.show()"
   ]
  },
  {
   "cell_type": "markdown",
   "metadata": {},
   "source": [
    "The learning process shifts and rotates the red line, but the process never finds a local minimum because the data is not linearly separable.  "
   ]
  },
  {
   "cell_type": "code",
   "execution_count": 6,
   "metadata": {},
   "outputs": [
    {
     "name": "stdout",
     "output_type": "stream",
     "text": [
      "   x1   x2   LM   Pred Class\n",
      "  1.0  4.0  1.2   1    1\n",
      "  3.0  4.0  1.6   1    1\n",
      "  1.0  2.0 -0.8   0    1 ** Classification error\n",
      "  2.0  3.0  0.4   1    1\n",
      "  2.0  4.0  1.4   1    0 ** Classification error\n",
      "  2.0  1.0 -1.6   0    0\n",
      "  4.0  1.0 -1.2   0    0\n",
      "  4.0  3.0  0.8   1    0 ** Classification error\n",
      "  3.0  2.0 -0.4   0    0\n",
      "  2.0  2.0 -0.6   0    1 ** Classification error\n",
      "  1.0  3.0  0.2   1    1\n"
     ]
    }
   ],
   "source": [
    "pretrained = lc.LinearClassifier()\n",
    "\n",
    "pretrained.tabulate_class(D, line2)"
   ]
  },
  {
   "cell_type": "markdown",
   "metadata": {},
   "source": [
    "## Logistic Classifier\n",
    "A logistic classifier uses a line to orient a smooth transition between the two classes; the transition is represented by the logistic function, also called the sigmoid function.  It can be applied to data that is not linearly separable.  In the `lc` module, it has the same interface as the Linear Classifier."
   ]
  },
  {
   "cell_type": "markdown",
   "metadata": {},
   "source": [
    "## TO DO: Increase the number of learning steps\n",
    "In the code below, the number of steps is determined by the variable `steps` which is currently set to `0`.  And a few lines later, we plot the effect of learning.  \n",
    "\n",
    "1. Set `steps = 1`; rerun the learning, and replot the data and the lines.  Notice how the line changed.\n",
    "1. Set `steps = 2`; rerun the learning, and replot the data and the lines.  Notice how the line changed.\n",
    "1. Experiment with the value of `steps`.  How many steps before the line stops moving?\n",
    "1. Experiment with the value of `alpha`.  Set `alpha` larger and smaller, and see the effect.\n",
    "\n",
    "To complete this TODO item, set the values for `steps` and `alpha` that produce a logistic classifier that misclassifies exactly one point."
   ]
  },
  {
   "cell_type": "code",
   "execution_count": 9,
   "metadata": {
    "scrolled": true
   },
   "outputs": [
    {
     "data": {
      "image/png": "[encoded data removed]",
      "text/plain": [
       "<Figure size 432x288 with 1 Axes>"
      ]
     },
     "metadata": {},
     "output_type": "display_data"
    }
   ],
   "source": [
    "# create a linear classifier object\n",
    "fitting = lc.LogisticClassifier()\n",
    "\n",
    "# start with the original line\n",
    "line2 = line\n",
    "\n",
    "# initial learning rate\n",
    "alpha = 0.1\n",
    "\n",
    "# how many steps to use\n",
    "steps = 0\n",
    "\n",
    "# fit the model, by taking enough steps\n",
    "for i in range(steps):\n",
    "    # look at all the data each time\n",
    "    for pt in D:\n",
    "        line2 = fitting.best_step(line2, alpha, pt)\n",
    "\n",
    "# Now plot the old line and the new line, showing all the data.\n",
    "\n",
    "# points from the two classes\n",
    "plt.plot([x1 for (x1,x2) in class_0], [x2 for (x1,x2) in class_0], \"bs\")\n",
    "plt.plot([x1 for (x1,x2) in class_1], [x2 for (x1,x2) in class_1], \"ro\")\n",
    "\n",
    "# the original line \n",
    "plt.plot(range(0,6), [line.f([1, x1]) for x1 in range(0,6)],\"y\")\n",
    "\n",
    "# the new line\n",
    "plt.plot(range(0,6), [line2.f([1, x1]) for x1 in range(0,6)],\"r\")\n",
    "\n",
    "plt.xlim(0,7)\n",
    "plt.ylim(0,5)\n",
    "plt.legend(['Class = 0', 'Class = 1', line.mxb(), line2.mxb()])\n",
    "plt.show()"
   ]
  },
  {
   "cell_type": "markdown",
   "metadata": {},
   "source": [
    "Using the `tabulate_class()` method, we can examine how the data gets classified by the logistic classifier.  "
   ]
  },
  {
   "cell_type": "code",
   "execution_count": 10,
   "metadata": {},
   "outputs": [
    {
     "name": "stdout",
     "output_type": "stream",
     "text": [
      "  x1   x2   LM   Pred Class\n",
      "  1.0  4.0  1.2  0.8    1\n",
      "  3.0  4.0  1.6  0.8    1\n",
      "  1.0  2.0 -0.8  0.3    1 ** Classification error\n",
      "  2.0  3.0  0.4  0.6    1\n",
      "  2.0  4.0  1.4  0.8    0 ** Classification error\n",
      "  2.0  1.0 -1.6  0.2    0\n",
      "  4.0  1.0 -1.2  0.2    0\n",
      "  4.0  3.0  0.8  0.7    0 ** Classification error\n",
      "  3.0  2.0 -0.4  0.4    0\n",
      "  2.0  2.0 -0.6  0.4    1 ** Classification error\n",
      "  1.0  3.0  0.2  0.5    1\n"
     ]
    }
   ],
   "source": [
    "fitting.tabulate_class(D, line2)"
   ]
  },
  {
   "cell_type": "markdown",
   "metadata": {},
   "source": [
    "The `Pred` value is greater than 0.5 for points above the line, meaning its guess is Class 1, and for points below the line, its guess is less than 0.5, meaning Class 0.  The `Pred` value can also be interpreted as the probability of being Class 1, given the line, and the point."
   ]
  }
 ],
 "metadata": {
  "kernelspec": {
   "display_name": "Python 3",
   "language": "python",
   "name": "python3"
  },
  "language_info": {
   "codemirror_mode": {
    "name": "ipython",
    "version": 3
   },
   "file_extension": ".py",
   "mimetype": "text/x-python",
   "name": "python",
   "nbconvert_exporter": "python",
   "pygments_lexer": "ipython3",
   "version": "3.6.5"
  }
 },
 "nbformat": 4,
 "nbformat_minor": 2
}
