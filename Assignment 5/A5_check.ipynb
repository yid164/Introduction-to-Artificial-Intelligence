{
 "cells": [
  {
   "cell_type": "markdown",
   "metadata": {},
   "source": [
    "# Ensuring your installation works correctly\n",
    "Open this document in Jupyter Notebook.   If you have opened this notebook, you should see a mixture of document and Python code. Near the bottoom of the document, you should see a plot of some red and blue points."
   ]
  },
  {
   "cell_type": "code",
   "execution_count": 1,
   "metadata": {},
   "outputs": [],
   "source": [
    "# As with a pure Python script, we can import modules.\n",
    "import matplotlib.pyplot as plt"
   ]
  },
  {
   "cell_type": "markdown",
   "metadata": {},
   "source": [
    "A notebook intermingles document and code.  This is a `markdown` cell, which means it converts text to formatted display.  The type of a cell can be determined by a drop down menu you can find near the top of this window.  Go look."
   ]
  },
  {
   "cell_type": "code",
   "execution_count": 2,
   "metadata": {},
   "outputs": [],
   "source": [
    "# This is a CODE cell.  In this document, the code is Python, and all Python syntax rules apply.\n",
    "\n",
    "# All the code cells together form a script, and later code cells can use variables defined earlier.\n",
    "\n",
    "# Let's define a variable to refer to a list\n",
    "D = [ (1, 3, 1), (2, 4, 1), (2, 1, 0), (3, 4, 0) ]"
   ]
  },
  {
   "cell_type": "markdown",
   "metadata": {},
   "source": [
    "It's best to think of a notebook as a way of adding fancy internal documentation to a Python script (or other supported language).  "
   ]
  },
  {
   "cell_type": "code",
   "execution_count": 3,
   "metadata": {},
   "outputs": [],
   "source": [
    "# more script, creating two lists\n",
    "class_0 = [(x1,x2) for (x1,x2,y) in D if y == 0]\n",
    "class_1 = [(x1,x2) for (x1,x2,y) in D if y == 1]"
   ]
  },
  {
   "cell_type": "markdown",
   "metadata": {},
   "source": [
    "The command to plot data comes from the MatPlotLib library.  The `plot()` function adds the data to a figure.  In plain Python, nothing appears before the `show()` is called, but it turns out that Jupyter can render the figure even if you don't call `show()`.  Before we show the figure, we adjust the range of the axes, and ask for a legend to appear in the default position."
   ]
  },
  {
   "cell_type": "code",
   "execution_count": 4,
   "metadata": {
    "scrolled": true
   },
   "outputs": [
    {
     "data": {
      "image/png": "[encoded data removed]",
      "text/plain": [
       "<Figure size 432x288 with 1 Axes>"
      ]
     },
     "metadata": {},
     "output_type": "display_data"
    }
   ],
   "source": [
    "plt.plot([x1 for (x1,x2) in class_0], [x2 for (x1,x2) in class_0], \"bs\")\n",
    "plt.plot([x1 for (x1,x2) in class_1], [x2 for (x1,x2) in class_1], \"ro\")\n",
    "\n",
    "plt.xlim(0,5)\n",
    "plt.ylim(0,5)\n",
    "plt.legend(['Class = 0', 'Class = 1'])  \n",
    "plt.show()"
   ]
  },
  {
   "cell_type": "markdown",
   "metadata": {},
   "source": [
    "## Editing CODE cells\n",
    "You can edit the code in any code cell, but for it to have an effect, you have to re-run the code.  The keyboard command for that depends on your machine, but on my Mac, it's Ctrl-Enter.  It's also available from the dropdown menu `Cell`, near the top of your window.\n",
    "\n",
    "Note: If you re-run a single cell, the effect is limited to the current cell.  You may rerun the whole notebook by finding an icon at the top of the window; the shape of the icon may be different depending on the compouter you are using, but it may look like an arrow circling on itself, or a couple of triangles pointing to ther right.  This is also available in the Kernel menu as `Restart and Run All`.  \n",
    "\n",
    "Note: If you ever change a module that you import, or if you want to see the effects of a change to the whole notebook, use the `Restart and Run All` button.  "
   ]
  },
  {
   "cell_type": "markdown",
   "metadata": {},
   "source": [
    "# Producing a document to hand in\n",
    "The easiest thing to do is to hand in the notebook itself.  But you can also create HTML documents, or PDF documents, depending on the software you have installed.  See the File menu, `Download as`. \n",
    "\n",
    "For A5, just hand in the notebook, which has the extension `.ipynb`."
   ]
  }
 ],
 "metadata": {
  "kernelspec": {
   "display_name": "Python 3",
   "language": "python",
   "name": "python3"
  },
  "language_info": {
   "codemirror_mode": {
    "name": "ipython",
    "version": 3
   },
   "file_extension": ".py",
   "mimetype": "text/x-python",
   "name": "python",
   "nbconvert_exporter": "python",
   "pygments_lexer": "ipython3",
   "version": "3.6.5"
  }
 },
 "nbformat": 4,
 "nbformat_minor": 2
}
